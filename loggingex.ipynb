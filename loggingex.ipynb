{
 "cells": [
  {
   "cell_type": "code",
   "execution_count": 4,
   "id": "035affa5-3b8e-45e2-93b5-ed6c9b475225",
   "metadata": {},
   "outputs": [],
   "source": [
    "import logging \n",
    "logging.basicConfig(filename='test.log', level=logging.DEBUG)\n",
    "\n",
    "def add(x,y):\n",
    "    return x+y\n",
    "\n",
    "def subtract(x,y):\n",
    "    return x-y\n",
    "\n",
    "def multiply(x,y):\n",
    "    return x*y\n",
    "\n",
    "def divide(x,y):\n",
    "    return x/y\n",
    "num_1=20\n",
    "num_2=10\n",
    "\n",
    "add_result=add(num_1,num_2)\n",
    "logging.debug(add_result)\n",
    "\n",
    "substract_result=subtract(num_1,num_2)\n",
    "logging.debug(substract_result)\n",
    "\n",
    "multiply_result=multiply(num_1,num_2)\n",
    "logging.debug(multiply_result)\n",
    "\n",
    "divide_result=divide(num_1,num_2)\n",
    "logging.debug(divide_result)"
   ]
  },
  {
   "cell_type": "code",
   "execution_count": 2,
   "id": "a30751df-8bd8-4d4f-8c76-f83aad702ae4",
   "metadata": {},
   "outputs": [],
   "source": [
    "import logging \n",
    "logging.basicConfig(filename='demo1.log', level=logging.DEBUG, format='%(asctime)s - %(levelname)s - %(message)s ')\n",
    "def namecheck(name):\n",
    "    if len(name)<2:\n",
    "        logging.debug('checking for name length')\n",
    "        return 'Invalid Name'\n",
    "    elif name.isspace():\n",
    "        logging.debug('checking for name has space')\n",
    "        return 'Invalid Name'\n",
    "    elif name.isalpha():\n",
    "        logging.debug('checking for name has alphabet')\n",
    "        return 'valid Name'\n",
    "    elif name.replace('','').isalpha():\n",
    "        logging.debug('checking for full name')\n",
    "        return 'valid Name'\n",
    "    else:\n",
    "        logging.debug('Failed All check')\n",
    "        return 'invalid name'"
   ]
  },
  {
   "cell_type": "code",
   "execution_count": 3,
   "id": "3030f86b-6688-4dd8-951a-5156788990cd",
   "metadata": {},
   "outputs": [
    {
     "name": "stdout",
     "output_type": "stream",
     "text": [
      "valid Name\n"
     ]
    }
   ],
   "source": [
    "print(namecheck('lokesh'))"
   ]
  },
  {
   "cell_type": "code",
   "execution_count": 3,
   "id": "0b57580d-5638-45dc-9ff6-51c5c92a4d5a",
   "metadata": {},
   "outputs": [],
   "source": [
    "import logging as lg\n",
    "lg.basicConfig(filename='test23.log', level=lg.INFO)\n",
    "\n",
    "def addition(*args):\n",
    "    lg.info('This is my addition function')\n",
    "    sum1=0\n",
    "    for i in args:\n",
    "        lg.info(str(i))\n",
    "        sum1=sum1+i\n",
    "        return sum1\n",
    "    f=open(\"test23.log\",\"r\")\n",
    "    print(f.read())\n",
    "    \n",
    "    addition(1,2,3,4)"
   ]
  },
  {
   "cell_type": "code",
   "execution_count": null,
   "id": "2776517a-60c5-4415-971e-1db1abb2b4a0",
   "metadata": {},
   "outputs": [],
   "source": []
  },
  {
   "cell_type": "code",
   "execution_count": null,
   "id": "7c5bb7f9-2c89-4334-aca8-ca96208e630e",
   "metadata": {},
   "outputs": [],
   "source": []
  },
  {
   "cell_type": "code",
   "execution_count": null,
   "id": "35bdb7fe-fe98-4bd7-a1a2-6a53f1e642b1",
   "metadata": {},
   "outputs": [],
   "source": []
  }
 ],
 "metadata": {
  "kernelspec": {
   "display_name": "Python 3 (ipykernel)",
   "language": "python",
   "name": "python3"
  },
  "language_info": {
   "codemirror_mode": {
    "name": "ipython",
    "version": 3
   },
   "file_extension": ".py",
   "mimetype": "text/x-python",
   "name": "python",
   "nbconvert_exporter": "python",
   "pygments_lexer": "ipython3",
   "version": "3.10.6"
  }
 },
 "nbformat": 4,
 "nbformat_minor": 5
}
