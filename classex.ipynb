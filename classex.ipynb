{
 "cells": [
  {
   "cell_type": "code",
   "execution_count": 3,
   "id": "a17858bc-74c8-44e0-a844-bc84242c955e",
   "metadata": {},
   "outputs": [],
   "source": [
    "class Robot:\n",
    "    def _init_(self,name,color,weight):\n",
    "        self.name=name\n",
    "        self.color=color\n",
    "        self.weight=weight\n",
    "        \n",
    "    def introduce_self(self):\n",
    "        print(\"my name is\"+ self.name)"
   ]
  },
  {
   "cell_type": "code",
   "execution_count": 14,
   "id": "256fef64-4566-4f37-8e1e-1e062ee4a8ed",
   "metadata": {},
   "outputs": [],
   "source": [
    "class Person:\n",
    "    def __init__(self,name,gender,profession):\n",
    "        self.name=name\n",
    "        self.gender=gender\n",
    "        self.profession=profession\n",
    "        \n",
    "    def show(self):\n",
    "        print('Name',self.name, 'Gender', self.gender, 'Profession', self.profession)\n",
    "    \n",
    "    def work(self):\n",
    "        print(self.name, 'is working as', self.profession)\n",
    "        "
   ]
  },
  {
   "cell_type": "code",
   "execution_count": 16,
   "id": "8802de4c-1826-4f1b-a0c6-4f05e6f098e6",
   "metadata": {},
   "outputs": [
    {
     "name": "stdout",
     "output_type": "stream",
     "text": [
      "Name Lokesh Gender Male Profession Doctor\n"
     ]
    }
   ],
   "source": [
    "o1=Person(\"Lokesh\",\"Male\",\"Doctor\")\n",
    "o1.show()"
   ]
  },
  {
   "cell_type": "code",
   "execution_count": 11,
   "id": "a74de010-32b9-4512-9f38-703f5a017e5b",
   "metadata": {},
   "outputs": [
    {
     "name": "stdout",
     "output_type": "stream",
     "text": [
      "The Area is 153.86\n",
      "The circumference  is 43.96\n"
     ]
    }
   ],
   "source": [
    "class Circle:\n",
    "    def __init__(self,radius):\n",
    "        self.radius=radius\n",
    "        \n",
    "    def area(self):\n",
    "        area=3.14*self.radius*self.radius\n",
    "        print(\"The Area is\", area)\n",
    "    \n",
    "    def circumference(self):\n",
    "        cirf=2*3.14*self.radius\n",
    "        print(\"The circumference  is\", cirf)\n",
    "        \n",
    "o1=Circle(7)\n",
    "o1.area()\n",
    "o1.circumference()"
   ]
  },
  {
   "cell_type": "code",
   "execution_count": 21,
   "id": "883f5156-91d4-4b5e-b5e4-3f56d00c5fe1",
   "metadata": {},
   "outputs": [
    {
     "name": "stdout",
     "output_type": "stream",
     "text": [
      "Account Number: 123 Deposited with: 100\n",
      "Account Number: 123 new balance is: 1100\n",
      "Account Number: 123 withdrawl with: 200\n",
      "Account Number: 123 new balance is: 900\n",
      "Account Number:- 123 Name:- lokesh Final Balance:- 900\n"
     ]
    }
   ],
   "source": [
    "class BankAccount:\n",
    "    def __init__(self,acc_number,name,balance):\n",
    "        self.acc_number=acc_number\n",
    "        self.name=name\n",
    "        self.balance=balance\n",
    "    \n",
    "    def deposit(self,deposit_amount):\n",
    "        print('Account Number:',self.acc_number, 'Deposited with:', deposit_amount)\n",
    "        self.balance=self.balance+deposit_amount\n",
    "        print('Account Number:',self.acc_number, 'new balance is:', self.balance)\n",
    "        \n",
    "    def withdrawal(self,withdrawal_amount):\n",
    "        print('Account Number:',self.acc_number, 'withdrawl with:', withdrawal_amount)\n",
    "        self.balance=self.balance-withdrawal_amount  \n",
    "        print('Account Number:',self.acc_number, 'new balance is:', self.balance)\n",
    "   \n",
    "    def display(self):\n",
    "        print('Account Number:-',self.acc_number, 'Name:-', self.name, 'Final Balance:-',self.balance)\n",
    "        \n",
    "\n",
    "ob1=BankAccount(123,'lokesh',1000)\n",
    "ob1.deposit(100)\n",
    "ob1.withdrawal(200)\n",
    "ob1.display()"
   ]
  },
  {
   "cell_type": "code",
   "execution_count": null,
   "id": "4e99028d-6869-4f93-be17-500eadb69df3",
   "metadata": {},
   "outputs": [],
   "source": []
  }
 ],
 "metadata": {
  "kernelspec": {
   "display_name": "Python 3 (ipykernel)",
   "language": "python",
   "name": "python3"
  },
  "language_info": {
   "codemirror_mode": {
    "name": "ipython",
    "version": 3
   },
   "file_extension": ".py",
   "mimetype": "text/x-python",
   "name": "python",
   "nbconvert_exporter": "python",
   "pygments_lexer": "ipython3",
   "version": "3.10.6"
  }
 },
 "nbformat": 4,
 "nbformat_minor": 5
}
